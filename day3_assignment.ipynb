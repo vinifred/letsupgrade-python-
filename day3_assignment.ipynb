{
  "nbformat": 4,
  "nbformat_minor": 0,
  "metadata": {
    "colab": {
      "name": "day3 assignment.ipynb",
      "provenance": [],
      "authorship_tag": "ABX9TyOQMuY2G2+xKad9pFU2ZcKs",
      "include_colab_link": true
    },
    "kernelspec": {
      "name": "python3",
      "display_name": "Python 3"
    }
  },
  "cells": [
    {
      "cell_type": "markdown",
      "metadata": {
        "id": "view-in-github",
        "colab_type": "text"
      },
      "source": [
        "<a href=\"https://colab.research.google.com/github/vinifred/letsupgrade-python-/blob/master/day3_assignment.ipynb\" target=\"_parent\"><img src=\"https://colab.research.google.com/assets/colab-badge.svg\" alt=\"Open In Colab\"/></a>"
      ]
    },
    {
      "cell_type": "code",
      "metadata": {
        "id": "M_lZ1J_v8msW",
        "colab_type": "code",
        "colab": {
          "base_uri": "https://localhost:8080/",
          "height": 806
        },
        "outputId": "bee696b6-7cf4-4111-ac9f-71162a27e8dc"
      },
      "source": [
        "for i in range(1,200): \n",
        "\tfor j in range(2,i): \n",
        "\t\tif(i % j==0): \n",
        "\t\t\tbreak\n",
        "\telse: \n",
        "\t\tprint(i) \n"
      ],
      "execution_count": 16,
      "outputs": [
        {
          "output_type": "stream",
          "text": [
            "1\n",
            "2\n",
            "3\n",
            "5\n",
            "7\n",
            "11\n",
            "13\n",
            "17\n",
            "19\n",
            "23\n",
            "29\n",
            "31\n",
            "37\n",
            "41\n",
            "43\n",
            "47\n",
            "53\n",
            "59\n",
            "61\n",
            "67\n",
            "71\n",
            "73\n",
            "79\n",
            "83\n",
            "89\n",
            "97\n",
            "101\n",
            "103\n",
            "107\n",
            "109\n",
            "113\n",
            "127\n",
            "131\n",
            "137\n",
            "139\n",
            "149\n",
            "151\n",
            "157\n",
            "163\n",
            "167\n",
            "173\n",
            "179\n",
            "181\n",
            "191\n",
            "193\n",
            "197\n",
            "199\n"
          ],
          "name": "stdout"
        }
      ]
    },
    {
      "cell_type": "code",
      "metadata": {
        "id": "dBnI3FEZABvt",
        "colab_type": "code",
        "colab": {
          "base_uri": "https://localhost:8080/",
          "height": 50
        },
        "outputId": "91925c3d-8da4-4e01-bf4b-5b942324994e"
      },
      "source": [
        "a= int(input(\"enter the altitude: \"))\n",
        "if a<=1000:\n",
        "  print(\"safe to land because it is\",a,'feet')\n",
        "elif a>1000 and a<=5000:\n",
        "  print(\"Bring down to 1000ft\")\n",
        "elif a>5000:\n",
        "  print(\"turn around\")\n",
        "else:\n",
        "  print(\"sorry!enter the correct one\")"
      ],
      "execution_count": 30,
      "outputs": [
        {
          "output_type": "stream",
          "text": [
            "enter the altitude: 6000\n",
            "turn around\n"
          ],
          "name": "stdout"
        }
      ]
    },
    {
      "cell_type": "code",
      "metadata": {
        "id": "T5fr6MgXH9AK",
        "colab_type": "code",
        "colab": {
          "base_uri": "https://localhost:8080/",
          "height": 50
        },
        "outputId": "f0e40132-369b-4016-d29d-194a82468b60"
      },
      "source": [
        "a= int(input(\"enter the altitude: \"))\n",
        "if a<=1000:\n",
        "  print(\"safe to land because it is\",a,'feet')\n",
        "elif a>1000 and a<=5000:\n",
        "  print(\"Bring down to 1000ft\")\n",
        "elif a>5000:\n",
        "  print(\"turn around\")\n",
        "else:\n",
        "  print(\"sorry!enter the correct one\")"
      ],
      "execution_count": 31,
      "outputs": [
        {
          "output_type": "stream",
          "text": [
            "enter the altitude: 1000\n",
            "safe to land because it is 1000 feet\n"
          ],
          "name": "stdout"
        }
      ]
    },
    {
      "cell_type": "code",
      "metadata": {
        "id": "-u-4lE05RGOJ",
        "colab_type": "code",
        "colab": {
          "base_uri": "https://localhost:8080/",
          "height": 50
        },
        "outputId": "049dbc40-134a-409a-e86d-0b95719f10e7"
      },
      "source": [
        "a= int(input(\"enter the altitude: \"))\n",
        "if a<=1000:\n",
        "  print(\"safe to land because it is\",a,'feet')\n",
        "elif a>1000 and a<=5000:\n",
        "  print(\"Bring down to 1000ft\")\n",
        "elif a>5000:\n",
        "  print(\"turn around\")\n",
        "else:\n",
        "  print(\"sorry!enter the correct one\")"
      ],
      "execution_count": 32,
      "outputs": [
        {
          "output_type": "stream",
          "text": [
            "enter the altitude: 4500\n",
            "Bring down to 1000ft\n"
          ],
          "name": "stdout"
        }
      ]
    },
    {
      "cell_type": "code",
      "metadata": {
        "id": "pJxwYCAJRLih",
        "colab_type": "code",
        "colab": {}
      },
      "source": [
        ""
      ],
      "execution_count": null,
      "outputs": []
    }
  ]
}