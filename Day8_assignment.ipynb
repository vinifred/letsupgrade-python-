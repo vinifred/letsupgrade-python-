{
  "nbformat": 4,
  "nbformat_minor": 0,
  "metadata": {
    "colab": {
      "name": "Day8 assignment.ipynb",
      "provenance": [],
      "collapsed_sections": [],
      "authorship_tag": "ABX9TyMjn0WRUjUBvisF+uL+FiyG",
      "include_colab_link": true
    },
    "kernelspec": {
      "name": "python3",
      "display_name": "Python 3"
    }
  },
  "cells": [
    {
      "cell_type": "markdown",
      "metadata": {
        "id": "view-in-github",
        "colab_type": "text"
      },
      "source": [
        "<a href=\"https://colab.research.google.com/github/vinifred/letsupgrade-python-/blob/master/Day8_assignment.ipynb\" target=\"_parent\"><img src=\"https://colab.research.google.com/assets/colab-badge.svg\" alt=\"Open In Colab\"/></a>"
      ]
    },
    {
      "cell_type": "markdown",
      "metadata": {
        "id": "tiNr_3rKzZ3Q",
        "colab_type": "text"
      },
      "source": [
        "**DECORATOR PROGRAM FOR FINDING FACTORIAL BY IDENTIFYING THE NATURAL NUMBERS **"
      ]
    },
    {
      "cell_type": "code",
      "metadata": {
        "id": "FJS-EwhAu9De",
        "colab_type": "code",
        "colab": {
          "base_uri": "https://localhost:8080/",
          "height": 336
        },
        "outputId": "c9c7883a-f00f-4a25-b518-926f51b1cc1b"
      },
      "source": [
        "def naturalnumber(f):\n",
        "    def inputno(x):\n",
        "        if type(x) == int and x > 0:\n",
        "            return f(x)\n",
        "        else:\n",
        "            raise Exception(\"Argument is not an integer\")\n",
        "    return inputno\n",
        "    \n",
        "@naturalnumber\n",
        "def factorial(n):\n",
        "    if n == 1:\n",
        "        return 1\n",
        "    else:\n",
        "        return n * factorial(n-1)\n",
        "\n",
        "for i in range(1,20):\n",
        "\tprint(i, factorial(i))\n",
        "\n"
      ],
      "execution_count": null,
      "outputs": [
        {
          "output_type": "stream",
          "text": [
            "1 1\n",
            "2 2\n",
            "3 6\n",
            "4 24\n",
            "5 120\n",
            "6 720\n",
            "7 5040\n",
            "8 40320\n",
            "9 362880\n",
            "10 3628800\n",
            "11 39916800\n",
            "12 479001600\n",
            "13 6227020800\n",
            "14 87178291200\n",
            "15 1307674368000\n",
            "16 20922789888000\n",
            "17 355687428096000\n",
            "18 6402373705728000\n",
            "19 121645100408832000\n"
          ],
          "name": "stdout"
        }
      ]
    },
    {
      "cell_type": "markdown",
      "metadata": {
        "id": "2TLMrp5Z-RIc",
        "colab_type": "text"
      },
      "source": [
        "**READING A FILE and PRINTING THE EXCEPTION HANDLING OF TRY TO EXPRESS THE ERROR **"
      ]
    },
    {
      "cell_type": "code",
      "metadata": {
        "id": "Ezs3kN-DvwYG",
        "colab_type": "code",
        "colab": {
          "base_uri": "https://localhost:8080/",
          "height": 50
        },
        "outputId": "3373ade4-7f14-4b89-c8b6-6bd9e0d62fc4"
      },
      "source": [
        "try:\n",
        "  file1 = open(\"MyFile.txt\",\"r\") \n",
        "  file1.write(\"hi\")\n",
        "  file1.close()\n",
        "except Exception as m:\n",
        "  print(m)\n",
        "finally:\n",
        "  print(\"hello hi this is just a try\")\n",
        "\n"
      ],
      "execution_count": 20,
      "outputs": [
        {
          "output_type": "stream",
          "text": [
            "not writable\n",
            "hello hi this is just a try\n"
          ],
          "name": "stdout"
        }
      ]
    },
    {
      "cell_type": "code",
      "metadata": {
        "id": "V1KdrZRk21Ca",
        "colab_type": "code",
        "colab": {}
      },
      "source": [
        ""
      ],
      "execution_count": null,
      "outputs": []
    }
  ]
}